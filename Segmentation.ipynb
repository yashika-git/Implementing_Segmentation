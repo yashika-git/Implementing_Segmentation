{
  "nbformat": 4,
  "nbformat_minor": 0,
  "metadata": {
    "colab": {
      "name": "Task2.ipynb",
      "provenance": [],
      "collapsed_sections": [],
      "authorship_tag": "ABX9TyOFMxCaoCQYj8f2Lf/g3I9t",
      "include_colab_link": true
    },
    "kernelspec": {
      "name": "python3",
      "display_name": "Python 3"
    },
    "language_info": {
      "name": "python"
    },
    "accelerator": "GPU"
  },
  "cells": [
    {
      "cell_type": "markdown",
      "metadata": {
        "id": "view-in-github",
        "colab_type": "text"
      },
      "source": [
        "<a href=\"https://colab.research.google.com/github/yashika-git/Implementing_Segmentation/blob/main/Segmentation.ipynb\" target=\"_parent\"><img src=\"https://colab.research.google.com/assets/colab-badge.svg\" alt=\"Open In Colab\"/></a>"
      ]
    },
    {
      "cell_type": "code",
      "source": [
        "!pip install -q -U segmentation-models-pytorch\n",
        "!pip -q install albumentations==0.4.6"
      ],
      "metadata": {
        "id": "-J3iFssXFVRR"
      },
      "execution_count": null,
      "outputs": []
    },
    {
      "cell_type": "code",
      "execution_count": null,
      "metadata": {
        "id": "yx5dpdgCP7-F"
      },
      "outputs": [],
      "source": [
        "# Imports\n",
        "\n",
        "import os \n",
        "import tqdm\n",
        "import shutil\n",
        "import random\n",
        "from glob import glob\n",
        "\n",
        "import numpy as np\n",
        "import pandas as pd\n",
        "\n",
        "import torch\n",
        "from torch import nn\n",
        "from torch.utils.data import Dataset\n",
        "from torch.utils.data import DataLoader\n",
        "import torch.nn.functional as F\n",
        "import torch.optim as optim\n",
        "import torchvision\n",
        "from torchvision.utils import save_image\n",
        "import albumentations as A\n",
        "from albumentations.pytorch.transforms import ToTensor\n",
        "from PIL import Image, ImageOps\n",
        "import segmentation_models_pytorch as smp\n"
      ]
    },
    {
      "cell_type": "code",
      "source": [
        "from google.colab import drive\n",
        "drive.mount('/content/gdrive')"
      ],
      "metadata": {
        "colab": {
          "base_uri": "https://localhost:8080/"
        },
        "id": "_jgKGUP4UZcz",
        "outputId": "f6f58161-724f-442a-a354-74fc33494913"
      },
      "execution_count": null,
      "outputs": [
        {
          "output_type": "stream",
          "name": "stdout",
          "text": [
            "Drive already mounted at /content/gdrive; to attempt to forcibly remount, call drive.mount(\"/content/gdrive\", force_remount=True).\n"
          ]
        }
      ]
    },
    {
      "cell_type": "code",
      "source": [
        "img_size = [512, 512]\n",
        "root_dir = '/content/gdrive/MyDrive/task_2/'\n",
        "image_dir = os.path.join(root_dir, 'images')\n",
        "mask_dir = os.path.join(root_dir, 'masks')"
      ],
      "metadata": {
        "id": "7-AqRbdYUbz1"
      },
      "execution_count": null,
      "outputs": []
    },
    {
      "cell_type": "code",
      "source": [
        "len(os.listdir(image_dir))"
      ],
      "metadata": {
        "colab": {
          "base_uri": "https://localhost:8080/"
        },
        "id": "QavidawIViKn",
        "outputId": "02b21dbf-48bc-4238-9553-6262098d730a"
      },
      "execution_count": null,
      "outputs": [
        {
          "output_type": "execute_result",
          "data": {
            "text/plain": [
              "30"
            ]
          },
          "metadata": {},
          "execution_count": 144
        }
      ]
    },
    {
      "cell_type": "code",
      "source": [
        "len(os.listdir(mask_dir))"
      ],
      "metadata": {
        "colab": {
          "base_uri": "https://localhost:8080/"
        },
        "id": "9gmdozHabl1C",
        "outputId": "c2552c49-ad77-4b0b-a7bf-85bfdeb7da5d"
      },
      "execution_count": null,
      "outputs": [
        {
          "output_type": "execute_result",
          "data": {
            "text/plain": [
              "30"
            ]
          },
          "metadata": {},
          "execution_count": 145
        }
      ]
    },
    {
      "cell_type": "code",
      "source": [
        "mask_list = sorted(glob(f\"{mask_dir}/*.png\"))\n",
        "image_list = sorted(glob(f\"{image_dir}/*.png\"))"
      ],
      "metadata": {
        "id": "Rroll5Mcc1bZ"
      },
      "execution_count": null,
      "outputs": []
    },
    {
      "cell_type": "code",
      "source": [
        "# Setting the seeds for reproducibility\n",
        "def set_seed(seed):\n",
        "    random.seed(seed)\n",
        "    os.environ[\"PYTHONHASHSEED\"] = str(seed)\n",
        "    np.random.seed(seed)\n",
        "    torch.manual_seed(seed)\n",
        "    if torch.cuda.is_available():\n",
        "        torch.cuda.manual_seed_all(seed)\n",
        "        torch.backends.cudnn.deterministic = True\n",
        "\n",
        "set_seed(42)"
      ],
      "metadata": {
        "id": "S9aftFYJaSei"
      },
      "execution_count": null,
      "outputs": []
    },
    {
      "cell_type": "code",
      "source": [
        "# Train-validation split\n",
        "train_image_list = image_list[:20]\n",
        "train_mask_list = mask_list[:20]\n",
        "valid_image_list = image_list[20:]\n",
        "valid_mask_list = mask_list[20:]"
      ],
      "metadata": {
        "id": "bQzTFivjflVK"
      },
      "execution_count": null,
      "outputs": []
    },
    {
      "cell_type": "code",
      "source": [
        "# Creating the Dataset Class\n",
        "\n",
        "class Dataset(Dataset):\n",
        "  def __init__(self, image_list, mask_list, transforms=None):\n",
        "    self.image_list = image_list\n",
        "    self.mask_list = mask_list\n",
        "    self.transforms = transforms\n",
        "\n",
        "  def __len__(self): \n",
        "    return len(self.image_list) \n",
        "\n",
        "  def __getitem__(self, index):\n",
        "    image_path = image_list[index]\n",
        "    mask_path = mask_list[index]\n",
        "    image = np.array(ImageOps.grayscale(Image.open(image_path).convert('RGB')))\n",
        "    mask = np.array(ImageOps.grayscale(Image.open(mask_path).convert('RGB')))\n",
        "    mask = mask/255.0 \n",
        "\n",
        "    if self.transforms:\n",
        "           augmentation = self.transforms(image0=image, image=mask)\n",
        "           image = augmentation[\"image0\"]\n",
        "           mask = augmentation[\"image\"]  \n",
        "           image = np.expand_dims(image,0)\n",
        "           mask = np.expand_dims(mask,0)\n",
        "          \n",
        "    return image, mask"
      ],
      "metadata": {
        "id": "6KqU6HkvWMob"
      },
      "execution_count": null,
      "outputs": []
    },
    {
      "cell_type": "code",
      "source": [
        "transforms_train = A.Compose([\n",
        "        A.Resize(256, 256),\n",
        "        A.HorizontalFlip(p=0.5),\n",
        "        A.VerticalFlip(p=0.5),],\n",
        "    additional_targets = {\"image0\":\"image\"}\n",
        ")\n",
        "\n",
        "transforms_valid = A.Compose([\n",
        "        A.Resize(256, 256),\n",
        "       ],\n",
        "    additional_targets = {\"image0\":\"image\"}\n",
        ")"
      ],
      "metadata": {
        "id": "YXCQ2RsygSHa"
      },
      "execution_count": null,
      "outputs": []
    },
    {
      "cell_type": "code",
      "source": [
        "class Trainer:\n",
        "    def __init__(\n",
        "        self, \n",
        "        model, \n",
        "        device, \n",
        "        optimizer, \n",
        "        criterion\n",
        "    ):\n",
        "        self.model = model\n",
        "        self.device = device\n",
        "        self.optimizer = optimizer\n",
        "        self.criterion = criterion\n",
        "\n",
        "        self.best_valid_dice_loss = np.inf\n",
        "        self.n_patience = 0\n",
        "        self.lastmodel = None\n",
        "        \n",
        "    def fit(self, epochs, train_loader, valid_loader, patience):        \n",
        "        for n_epoch in range(1, epochs + 1):\n",
        "            self.info_message(\"EPOCH: {}\", n_epoch)\n",
        "            \n",
        "            train_dice_loss = self.train_epoch(train_loader)\n",
        "            valid_dice_loss = self.valid_epoch(valid_loader)\n",
        "            \n",
        "            self.info_message(\n",
        "                \"[Epoch Train: {}] dice_loss: {:.4f}\",\n",
        "                n_epoch, train_dice_loss\n",
        "            )\n",
        "            \n",
        "            self.info_message(\n",
        "                \"[Epoch Valid: {}] dice_loss: {:.4f}\",\n",
        "                n_epoch, valid_dice_loss\n",
        "            )\n",
        "\n",
        "         \n",
        "            if self.best_valid_dice_loss > valid_dice_loss: \n",
        "                self.save_model(n_epoch, valid_dice_loss)\n",
        "                self.info_message(\n",
        "                     \"valid dice loss decreased from {:.4f} to {:.4f}. Saved model to '{}'\", \n",
        "                    self.best_valid_dice_loss, valid_dice_loss, self.lastmodel\n",
        "                )\n",
        "                self.best_valid_dice_loss = valid_dice_loss\n",
        "                self.n_patience = 0\n",
        "            else:\n",
        "                self.n_patience += 1\n",
        "            \n",
        "            if self.n_patience >= patience:\n",
        "                self.info_message(\"\\nValid dice loss didn't improve in last {} epochs.\", patience)\n",
        "                break\n",
        "            \n",
        "    def train_epoch(self, train_loader):\n",
        "        self.model.train()\n",
        "        sum_dice_loss = 0\n",
        "\n",
        "        for step, batch in enumerate(train_loader, 1):\n",
        "            image = batch[0].float()\n",
        "            mask = batch[1].float()\n",
        "            image = image.to(self.device)\n",
        "            mask = mask.to(self.device)\n",
        "            self.optimizer.zero_grad()\n",
        "            outputs = self.model(image)\n",
        "            \n",
        "            loss = self.criterion(outputs, mask)\n",
        "            loss.backward()\n",
        "\n",
        "            sum_dice_loss += loss.detach().item()\n",
        "\n",
        "            self.optimizer.step()\n",
        "            \n",
        "            message = 'Train Step {}/{}, train_dice_loss: {:.4f}'\n",
        "            self.info_message(message, step, len(train_loader), sum_dice_loss/step, end=\"\\r\")\n",
        "        \n",
        "        return sum_dice_loss/len(train_loader)\n",
        "    \n",
        "    def valid_epoch(self, valid_loader):\n",
        "        self.model.eval()\n",
        "        sum_dice_loss = 0\n",
        "\n",
        "        for step, batch in enumerate(valid_loader, 1):\n",
        "            with torch.no_grad():\n",
        "                image = batch[0].float().to(self.device)\n",
        "                mask = batch[1].float().to(self.device)\n",
        "\n",
        "                outputs = self.model(image)\n",
        "                loss = self.criterion(outputs, mask)\n",
        "\n",
        "                sum_dice_loss += loss.detach().item()\n",
        "             \n",
        "            message = 'Valid Step {}/{}, valid_dice_loss: {:.4f}'\n",
        "            self.info_message(message, step, len(valid_loader), sum_dice_loss/step, end=\"\\r\")\n",
        "        \n",
        "        return sum_dice_loss/len(valid_loader)\n",
        "    \n",
        "    def save_model(self, n_epoch, loss):\n",
        "        self.lastmodel = f\"e{n_epoch}-dice_loss{loss:.3f}.pth\"\n",
        "        torch.save(\n",
        "            {\n",
        "                \"model_state_dict\": self.model.state_dict(),\n",
        "                \"optimizer_state_dict\": self.optimizer.state_dict(),\n",
        "                \"best_valid_dice_loss\": self.best_valid_dice_loss,\n",
        "                \"n_epoch\": n_epoch,\n",
        "            },\n",
        "            self.lastmodel,\n",
        "        )\n",
        "    \n",
        "    @staticmethod\n",
        "    def info_message(message, *args, end=\"\\n\"):\n",
        "        print(message.format(*args), end=end)\n"
      ],
      "metadata": {
        "id": "bun0ZH2oucEW"
      },
      "execution_count": null,
      "outputs": []
    },
    {
      "cell_type": "code",
      "source": [
        "device = torch.device(\"cuda\" if torch.cuda.is_available() else \"cpu\")\n",
        "\n",
        "def train():\n",
        "\n",
        "    train_data_retriever = Dataset(\n",
        "        train_image_list,\n",
        "        train_mask_list,\n",
        "        transforms_valid     \n",
        "    )\n",
        "\n",
        "    valid_data_retriever = Dataset(\n",
        "        valid_image_list,\n",
        "        valid_mask_list,\n",
        "        transforms_valid       \n",
        "    )\n",
        "\n",
        "    train_loader = DataLoader(\n",
        "        train_data_retriever,\n",
        "        batch_size=4,\n",
        "        shuffle=True,\n",
        "        num_workers=2,\n",
        "    )\n",
        "\n",
        "    valid_loader = DataLoader(\n",
        "        valid_data_retriever, \n",
        "        batch_size=4,\n",
        "        shuffle=False,\n",
        "        num_workers=2,\n",
        "    )\n",
        "\n",
        "    model = smp.Unet(\n",
        "        encoder_name= 'efficientnet-b2',      \n",
        "        encoder_weights=\"imagenet\",     \n",
        "        in_channels=1,                  \n",
        "        classes=1,        \n",
        "        activation=\"sigmoid\",\n",
        "    ).to(device)\n",
        "\n",
        "    optimizer = torch.optim.Adam(model.parameters(), lr=0.001)\n",
        "\n",
        "    criterion = smp.utils.losses.DiceLoss()\n",
        "\n",
        "    trainer = Trainer(\n",
        "        model, \n",
        "        device, \n",
        "        optimizer, \n",
        "        criterion\n",
        "    )\n",
        "\n",
        "    history = trainer.fit(\n",
        "        50, \n",
        "        train_loader, \n",
        "        valid_loader,\n",
        "        10,\n",
        "    )\n",
        "    return trainer.lastmodel\n",
        "\n",
        "modelfiles = None\n",
        "\n",
        "if not modelfiles:\n",
        "  modelfiles = train()\n",
        "print(modelfiles)"
      ],
      "metadata": {
        "colab": {
          "base_uri": "https://localhost:8080/"
        },
        "id": "UZ4g13-gvOsC",
        "outputId": "5123b6cf-58ba-471d-e9ea-8e3e758e47a2"
      },
      "execution_count": null,
      "outputs": [
        {
          "output_type": "stream",
          "name": "stdout",
          "text": [
            "EPOCH: 1\n",
            "[Epoch Train: 1] dice_loss: 0.5613\n",
            "[Epoch Valid: 1] dice_loss: 0.8890\n",
            "valid dice loss decreased from inf to 0.8890. Saved model to 'e1-dice_loss0.889.pth'\n",
            "EPOCH: 2\n",
            "[Epoch Train: 2] dice_loss: 0.4534\n",
            "[Epoch Valid: 2] dice_loss: 0.9943\n",
            "EPOCH: 3\n",
            "[Epoch Train: 3] dice_loss: 0.4108\n",
            "[Epoch Valid: 3] dice_loss: 0.9865\n",
            "EPOCH: 4\n",
            "[Epoch Train: 4] dice_loss: 0.3699\n",
            "[Epoch Valid: 4] dice_loss: 0.8898\n",
            "EPOCH: 5\n",
            "[Epoch Train: 5] dice_loss: 0.3548\n",
            "[Epoch Valid: 5] dice_loss: 0.8717\n",
            "valid dice loss decreased from 0.8890 to 0.8717. Saved model to 'e5-dice_loss0.872.pth'\n",
            "EPOCH: 6\n",
            "[Epoch Train: 6] dice_loss: 0.3174\n",
            "[Epoch Valid: 6] dice_loss: 0.8046\n",
            "valid dice loss decreased from 0.8717 to 0.8046. Saved model to 'e6-dice_loss0.805.pth'\n",
            "EPOCH: 7\n",
            "[Epoch Train: 7] dice_loss: 0.3156\n",
            "[Epoch Valid: 7] dice_loss: 0.6464\n",
            "valid dice loss decreased from 0.8046 to 0.6464. Saved model to 'e7-dice_loss0.646.pth'\n",
            "EPOCH: 8\n",
            "[Epoch Train: 8] dice_loss: 0.3016\n",
            "[Epoch Valid: 8] dice_loss: 0.6365\n",
            "valid dice loss decreased from 0.6464 to 0.6365. Saved model to 'e8-dice_loss0.637.pth'\n",
            "EPOCH: 9\n",
            "[Epoch Train: 9] dice_loss: 0.2852\n",
            "[Epoch Valid: 9] dice_loss: 0.6929\n",
            "EPOCH: 10\n",
            "[Epoch Train: 10] dice_loss: 0.2657\n",
            "[Epoch Valid: 10] dice_loss: 0.6415\n",
            "EPOCH: 11\n",
            "[Epoch Train: 11] dice_loss: 0.2655\n",
            "[Epoch Valid: 11] dice_loss: 0.6125\n",
            "valid dice loss decreased from 0.6365 to 0.6125. Saved model to 'e11-dice_loss0.613.pth'\n",
            "EPOCH: 12\n",
            "[Epoch Train: 12] dice_loss: 0.2512\n",
            "[Epoch Valid: 12] dice_loss: 0.5153\n",
            "valid dice loss decreased from 0.6125 to 0.5153. Saved model to 'e12-dice_loss0.515.pth'\n",
            "EPOCH: 13\n",
            "[Epoch Train: 13] dice_loss: 0.2468\n",
            "[Epoch Valid: 13] dice_loss: 0.5160\n",
            "EPOCH: 14\n",
            "[Epoch Train: 14] dice_loss: 0.2407\n",
            "[Epoch Valid: 14] dice_loss: 0.5067\n",
            "valid dice loss decreased from 0.5153 to 0.5067. Saved model to 'e14-dice_loss0.507.pth'\n",
            "EPOCH: 15\n",
            "[Epoch Train: 15] dice_loss: 0.2298\n",
            "[Epoch Valid: 15] dice_loss: 0.4753\n",
            "valid dice loss decreased from 0.5067 to 0.4753. Saved model to 'e15-dice_loss0.475.pth'\n",
            "EPOCH: 16\n",
            "[Epoch Train: 16] dice_loss: 0.2238\n",
            "[Epoch Valid: 16] dice_loss: 0.5025\n",
            "EPOCH: 17\n",
            "[Epoch Train: 17] dice_loss: 0.2181\n",
            "[Epoch Valid: 17] dice_loss: 0.4200\n",
            "valid dice loss decreased from 0.4753 to 0.4200. Saved model to 'e17-dice_loss0.420.pth'\n",
            "EPOCH: 18\n",
            "[Epoch Train: 18] dice_loss: 0.2309\n",
            "[Epoch Valid: 18] dice_loss: 0.3349\n",
            "valid dice loss decreased from 0.4200 to 0.3349. Saved model to 'e18-dice_loss0.335.pth'\n",
            "EPOCH: 19\n",
            "[Epoch Train: 19] dice_loss: 0.2201\n",
            "[Epoch Valid: 19] dice_loss: 0.3243\n",
            "valid dice loss decreased from 0.3349 to 0.3243. Saved model to 'e19-dice_loss0.324.pth'\n",
            "EPOCH: 20\n",
            "[Epoch Train: 20] dice_loss: 0.2022\n",
            "[Epoch Valid: 20] dice_loss: 0.3105\n",
            "valid dice loss decreased from 0.3243 to 0.3105. Saved model to 'e20-dice_loss0.310.pth'\n",
            "EPOCH: 21\n",
            "[Epoch Train: 21] dice_loss: 0.1947\n",
            "[Epoch Valid: 21] dice_loss: 0.3023\n",
            "valid dice loss decreased from 0.3105 to 0.3023. Saved model to 'e21-dice_loss0.302.pth'\n",
            "EPOCH: 22\n",
            "[Epoch Train: 22] dice_loss: 0.1972\n",
            "[Epoch Valid: 22] dice_loss: 0.2650\n",
            "valid dice loss decreased from 0.3023 to 0.2650. Saved model to 'e22-dice_loss0.265.pth'\n",
            "EPOCH: 23\n",
            "[Epoch Train: 23] dice_loss: 0.1882\n",
            "[Epoch Valid: 23] dice_loss: 0.2470\n",
            "valid dice loss decreased from 0.2650 to 0.2470. Saved model to 'e23-dice_loss0.247.pth'\n",
            "EPOCH: 24\n",
            "[Epoch Train: 24] dice_loss: 0.1814\n",
            "[Epoch Valid: 24] dice_loss: 0.2327\n",
            "valid dice loss decreased from 0.2470 to 0.2327. Saved model to 'e24-dice_loss0.233.pth'\n",
            "EPOCH: 25\n",
            "[Epoch Train: 25] dice_loss: 0.1814\n",
            "[Epoch Valid: 25] dice_loss: 0.2279\n",
            "valid dice loss decreased from 0.2327 to 0.2279. Saved model to 'e25-dice_loss0.228.pth'\n",
            "EPOCH: 26\n",
            "[Epoch Train: 26] dice_loss: 0.1763\n",
            "[Epoch Valid: 26] dice_loss: 0.2272\n",
            "valid dice loss decreased from 0.2279 to 0.2272. Saved model to 'e26-dice_loss0.227.pth'\n",
            "EPOCH: 27\n",
            "[Epoch Train: 27] dice_loss: 0.1825\n",
            "[Epoch Valid: 27] dice_loss: 0.1944\n",
            "valid dice loss decreased from 0.2272 to 0.1944. Saved model to 'e27-dice_loss0.194.pth'\n",
            "EPOCH: 28\n",
            "[Epoch Train: 28] dice_loss: 0.1719\n",
            "[Epoch Valid: 28] dice_loss: 0.1782\n",
            "valid dice loss decreased from 0.1944 to 0.1782. Saved model to 'e28-dice_loss0.178.pth'\n",
            "EPOCH: 29\n",
            "[Epoch Train: 29] dice_loss: 0.1679\n",
            "[Epoch Valid: 29] dice_loss: 0.1712\n",
            "valid dice loss decreased from 0.1782 to 0.1712. Saved model to 'e29-dice_loss0.171.pth'\n",
            "EPOCH: 30\n",
            "[Epoch Train: 30] dice_loss: 0.1624\n",
            "[Epoch Valid: 30] dice_loss: 0.1683\n",
            "valid dice loss decreased from 0.1712 to 0.1683. Saved model to 'e30-dice_loss0.168.pth'\n",
            "EPOCH: 31\n",
            "[Epoch Train: 31] dice_loss: 0.1598\n",
            "[Epoch Valid: 31] dice_loss: 0.1593\n",
            "valid dice loss decreased from 0.1683 to 0.1593. Saved model to 'e31-dice_loss0.159.pth'\n",
            "EPOCH: 32\n",
            "[Epoch Train: 32] dice_loss: 0.1543\n",
            "[Epoch Valid: 32] dice_loss: 0.1574\n",
            "valid dice loss decreased from 0.1593 to 0.1574. Saved model to 'e32-dice_loss0.157.pth'\n",
            "EPOCH: 33\n",
            "[Epoch Train: 33] dice_loss: 0.1525\n",
            "[Epoch Valid: 33] dice_loss: 0.1571\n",
            "valid dice loss decreased from 0.1574 to 0.1571. Saved model to 'e33-dice_loss0.157.pth'\n",
            "EPOCH: 34\n",
            "[Epoch Train: 34] dice_loss: 0.1476\n",
            "[Epoch Valid: 34] dice_loss: 0.1509\n",
            "valid dice loss decreased from 0.1571 to 0.1509. Saved model to 'e34-dice_loss0.151.pth'\n",
            "EPOCH: 35\n",
            "[Epoch Train: 35] dice_loss: 0.1505\n",
            "[Epoch Valid: 35] dice_loss: 0.1450\n",
            "valid dice loss decreased from 0.1509 to 0.1450. Saved model to 'e35-dice_loss0.145.pth'\n",
            "EPOCH: 36\n",
            "[Epoch Train: 36] dice_loss: 0.1410\n",
            "[Epoch Valid: 36] dice_loss: 0.1425\n",
            "valid dice loss decreased from 0.1450 to 0.1425. Saved model to 'e36-dice_loss0.142.pth'\n",
            "EPOCH: 37\n",
            "[Epoch Train: 37] dice_loss: 0.1432\n",
            "[Epoch Valid: 37] dice_loss: 0.1398\n",
            "valid dice loss decreased from 0.1425 to 0.1398. Saved model to 'e37-dice_loss0.140.pth'\n",
            "EPOCH: 38\n",
            "[Epoch Train: 38] dice_loss: 0.1431\n",
            "[Epoch Valid: 38] dice_loss: 0.1369\n",
            "valid dice loss decreased from 0.1398 to 0.1369. Saved model to 'e38-dice_loss0.137.pth'\n",
            "EPOCH: 39\n",
            "[Epoch Train: 39] dice_loss: 0.1389\n",
            "[Epoch Valid: 39] dice_loss: 0.1320\n",
            "valid dice loss decreased from 0.1369 to 0.1320. Saved model to 'e39-dice_loss0.132.pth'\n",
            "EPOCH: 40\n",
            "[Epoch Train: 40] dice_loss: 0.1346\n",
            "[Epoch Valid: 40] dice_loss: 0.1315\n",
            "valid dice loss decreased from 0.1320 to 0.1315. Saved model to 'e40-dice_loss0.132.pth'\n",
            "EPOCH: 41\n",
            "[Epoch Train: 41] dice_loss: 0.1417\n",
            "[Epoch Valid: 41] dice_loss: 0.1278\n",
            "valid dice loss decreased from 0.1315 to 0.1278. Saved model to 'e41-dice_loss0.128.pth'\n",
            "EPOCH: 42\n",
            "[Epoch Train: 42] dice_loss: 0.1483\n",
            "[Epoch Valid: 42] dice_loss: 0.1324\n",
            "EPOCH: 43\n",
            "[Epoch Train: 43] dice_loss: 0.1394\n",
            "[Epoch Valid: 43] dice_loss: 0.1252\n",
            "valid dice loss decreased from 0.1278 to 0.1252. Saved model to 'e43-dice_loss0.125.pth'\n",
            "EPOCH: 44\n",
            "[Epoch Train: 44] dice_loss: 0.1413\n",
            "[Epoch Valid: 44] dice_loss: 0.1370\n",
            "EPOCH: 45\n",
            "[Epoch Train: 45] dice_loss: 0.1313\n",
            "[Epoch Valid: 45] dice_loss: 0.1202\n",
            "valid dice loss decreased from 0.1252 to 0.1202. Saved model to 'e45-dice_loss0.120.pth'\n",
            "EPOCH: 46\n",
            "[Epoch Train: 46] dice_loss: 0.1365\n",
            "[Epoch Valid: 46] dice_loss: 0.1191\n",
            "valid dice loss decreased from 0.1202 to 0.1191. Saved model to 'e46-dice_loss0.119.pth'\n",
            "EPOCH: 47\n",
            "[Epoch Train: 47] dice_loss: 0.1263\n",
            "[Epoch Valid: 47] dice_loss: 0.1160\n",
            "valid dice loss decreased from 0.1191 to 0.1160. Saved model to 'e47-dice_loss0.116.pth'\n",
            "EPOCH: 48\n",
            "[Epoch Train: 48] dice_loss: 0.1252\n",
            "[Epoch Valid: 48] dice_loss: 0.1117\n",
            "valid dice loss decreased from 0.1160 to 0.1117. Saved model to 'e48-dice_loss0.112.pth'\n",
            "EPOCH: 49\n",
            "[Epoch Train: 49] dice_loss: 0.1274\n",
            "[Epoch Valid: 49] dice_loss: 0.1144\n",
            "EPOCH: 50\n",
            "[Epoch Train: 50] dice_loss: 0.1218\n",
            "[Epoch Valid: 50] dice_loss: 0.1085\n",
            "valid dice loss decreased from 0.1117 to 0.1085. Saved model to 'e50-dice_loss0.108.pth'\n",
            "e50-dice_loss0.108.pth\n"
          ]
        }
      ]
    }
  ]
}